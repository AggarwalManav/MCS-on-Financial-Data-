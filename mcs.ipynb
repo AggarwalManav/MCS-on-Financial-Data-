{
 "cells": [
  {
   "cell_type": "markdown",
   "id": "0fe40fe9",
   "metadata": {},
   "source": [
    "# 1.Importing Dependencies "
   ]
  },
  {
   "cell_type": "code",
   "execution_count": 1,
   "id": "baa24047",
   "metadata": {},
   "outputs": [],
   "source": [
    "import pathlib\n",
    "import numpy as np\n",
    "import pandas as pd\n",
    "import matplotlib.pyplot as plt\n",
    "import scipy.optimize as sci_opt\n",
    "\n",
    "from pprint import pprint\n",
    "from sklearn.preprocessing import StandardScaler\n",
    "from pyopt1.client import PriceHistory\n",
    "from fake_useragent import UserAgent"
   ]
  },
  {
   "cell_type": "code",
   "execution_count": 2,
   "id": "8749dfe2",
   "metadata": {},
   "outputs": [],
   "source": [
    "pd.reset_option(\"all\")"
   ]
  },
  {
   "cell_type": "markdown",
   "id": "c21eea7c",
   "metadata": {},
   "source": [
    "# 2.Getting Data "
   ]
  },
  {
   "cell_type": "code",
   "execution_count": 3,
   "id": "ab8b421c",
   "metadata": {},
   "outputs": [],
   "source": [
    "symbols = ['AAPL', 'MSFT', 'SQ']\n",
    "number_of_symbols = len(symbols)"
   ]
  },
  {
   "cell_type": "code",
   "execution_count": 5,
   "id": "13f69686",
   "metadata": {},
   "outputs": [
    {
     "name": "stdout",
     "output_type": "stream",
     "text": [
      "         date  close    volume   open    high    low symbol\n",
      "0  2023-10-10  46.00  15783370  44.30  46.540  44.30     SQ\n",
      "1  2023-10-09  43.71   7787594  43.12  43.815  42.89     SQ\n",
      "2  2023-10-06  43.83  13244320  42.15  44.050  42.15     SQ\n",
      "3  2023-10-05  42.64  15916710  41.51  42.815  40.77     SQ\n",
      "4  2023-10-04  41.90  11048000  42.00  42.220  41.24     SQ\n"
     ]
    }
   ],
   "source": [
    "if not pathlib.Path(r'C:\\Users\\manav\\Python_Jupyter\\ML Projects\\Finance Monte Carlo Simulations\\Attempt 1\\data\\stock_data.csv').exists():\n",
    "    \n",
    "    # Initialize the client.\n",
    "    price_history_client = PriceHistory(\n",
    "        symbols=['AAPL','MSFT','SQ'],\n",
    "        user_agent=UserAgent().edge\n",
    "    )\n",
    "\n",
    "    # Dump it to a CSV file.\n",
    "    price_history_client.price_data_frame.to_csv(\n",
    "        r'C:\\Users\\manav\\Python_Jupyter\\ML Projects\\Finance Monte Carlo Simulations\\Attempt 1\\data\\stock_data.csv',\n",
    "        index=False\n",
    "    )\n",
    "    pprint(price_history_client.price_data_frame)\n",
    "\n",
    "    # Grab the data frame.\n",
    "    price_data_frame: pd.DataFrame = price_history_client.price_data_frame\n",
    "\n",
    "else:\n",
    "\n",
    "    # Load the data.\n",
    "    price_data_frame: pd.DataFrame = pd.read_csv(r'C:\\Users\\manav\\Python_Jupyter\\ML Projects\\Finance Monte Carlo Simulations\\Attempt 1\\data\\stock_data.csv')\n",
    "\n",
    "# Print the head.\n",
    "print(price_data_frame.head())"
   ]
  },
  {
   "cell_type": "code",
   "execution_count": 6,
   "id": "5933798b",
   "metadata": {},
   "outputs": [],
   "source": [
    "price_data_frame=price_data_frame[[\"date\",\"symbol\",\"close\"]]"
   ]
  },
  {
   "cell_type": "code",
   "execution_count": 7,
   "id": "d13a6870",
   "metadata": {},
   "outputs": [
    {
     "data": {
      "text/html": [
       "<div>\n",
       "<style scoped>\n",
       "    .dataframe tbody tr th:only-of-type {\n",
       "        vertical-align: middle;\n",
       "    }\n",
       "\n",
       "    .dataframe tbody tr th {\n",
       "        vertical-align: top;\n",
       "    }\n",
       "\n",
       "    .dataframe thead th {\n",
       "        text-align: right;\n",
       "    }\n",
       "</style>\n",
       "<table border=\"1\" class=\"dataframe\">\n",
       "  <thead>\n",
       "    <tr style=\"text-align: right;\">\n",
       "      <th></th>\n",
       "      <th>date</th>\n",
       "      <th>symbol</th>\n",
       "      <th>close</th>\n",
       "    </tr>\n",
       "  </thead>\n",
       "  <tbody>\n",
       "    <tr>\n",
       "      <th>0</th>\n",
       "      <td>2023-10-10</td>\n",
       "      <td>SQ</td>\n",
       "      <td>46.00</td>\n",
       "    </tr>\n",
       "    <tr>\n",
       "      <th>1</th>\n",
       "      <td>2023-10-09</td>\n",
       "      <td>SQ</td>\n",
       "      <td>43.71</td>\n",
       "    </tr>\n",
       "    <tr>\n",
       "      <th>2</th>\n",
       "      <td>2023-10-06</td>\n",
       "      <td>SQ</td>\n",
       "      <td>43.83</td>\n",
       "    </tr>\n",
       "    <tr>\n",
       "      <th>3</th>\n",
       "      <td>2023-10-05</td>\n",
       "      <td>SQ</td>\n",
       "      <td>42.64</td>\n",
       "    </tr>\n",
       "    <tr>\n",
       "      <th>4</th>\n",
       "      <td>2023-10-04</td>\n",
       "      <td>SQ</td>\n",
       "      <td>41.90</td>\n",
       "    </tr>\n",
       "  </tbody>\n",
       "</table>\n",
       "</div>"
      ],
      "text/plain": [
       "         date symbol  close\n",
       "0  2023-10-10     SQ  46.00\n",
       "1  2023-10-09     SQ  43.71\n",
       "2  2023-10-06     SQ  43.83\n",
       "3  2023-10-05     SQ  42.64\n",
       "4  2023-10-04     SQ  41.90"
      ]
     },
     "execution_count": 7,
     "metadata": {},
     "output_type": "execute_result"
    }
   ],
   "source": [
    "price_data_frame.head()"
   ]
  },
  {
   "cell_type": "code",
   "execution_count": 8,
   "id": "be5a9974",
   "metadata": {},
   "outputs": [],
   "source": [
    "price_data_frame=price_data_frame.pivot(\n",
    "    index=\"date\",\n",
    "    columns=\"symbol\",\n",
    "    values=\"close\"\n",
    ")"
   ]
  },
  {
   "cell_type": "code",
   "execution_count": 9,
   "id": "082a076b",
   "metadata": {},
   "outputs": [
    {
     "data": {
      "text/html": [
       "<div>\n",
       "<style scoped>\n",
       "    .dataframe tbody tr th:only-of-type {\n",
       "        vertical-align: middle;\n",
       "    }\n",
       "\n",
       "    .dataframe tbody tr th {\n",
       "        vertical-align: top;\n",
       "    }\n",
       "\n",
       "    .dataframe thead th {\n",
       "        text-align: right;\n",
       "    }\n",
       "</style>\n",
       "<table border=\"1\" class=\"dataframe\">\n",
       "  <thead>\n",
       "    <tr style=\"text-align: right;\">\n",
       "      <th>symbol</th>\n",
       "      <th>AAPL</th>\n",
       "      <th>MSFT</th>\n",
       "      <th>SQ</th>\n",
       "    </tr>\n",
       "    <tr>\n",
       "      <th>date</th>\n",
       "      <th></th>\n",
       "      <th></th>\n",
       "      <th></th>\n",
       "    </tr>\n",
       "  </thead>\n",
       "  <tbody>\n",
       "    <tr>\n",
       "      <th>2023-04-11</th>\n",
       "      <td>160.80</td>\n",
       "      <td>282.830</td>\n",
       "      <td>66.42</td>\n",
       "    </tr>\n",
       "    <tr>\n",
       "      <th>2023-04-12</th>\n",
       "      <td>160.10</td>\n",
       "      <td>283.490</td>\n",
       "      <td>62.74</td>\n",
       "    </tr>\n",
       "    <tr>\n",
       "      <th>2023-04-13</th>\n",
       "      <td>165.56</td>\n",
       "      <td>289.840</td>\n",
       "      <td>64.56</td>\n",
       "    </tr>\n",
       "    <tr>\n",
       "      <th>2023-04-14</th>\n",
       "      <td>165.21</td>\n",
       "      <td>286.140</td>\n",
       "      <td>64.04</td>\n",
       "    </tr>\n",
       "    <tr>\n",
       "      <th>2023-04-17</th>\n",
       "      <td>165.23</td>\n",
       "      <td>288.800</td>\n",
       "      <td>64.19</td>\n",
       "    </tr>\n",
       "    <tr>\n",
       "      <th>...</th>\n",
       "      <td>...</td>\n",
       "      <td>...</td>\n",
       "      <td>...</td>\n",
       "    </tr>\n",
       "    <tr>\n",
       "      <th>2023-10-04</th>\n",
       "      <td>173.66</td>\n",
       "      <td>318.955</td>\n",
       "      <td>41.90</td>\n",
       "    </tr>\n",
       "    <tr>\n",
       "      <th>2023-10-05</th>\n",
       "      <td>174.91</td>\n",
       "      <td>319.360</td>\n",
       "      <td>42.64</td>\n",
       "    </tr>\n",
       "    <tr>\n",
       "      <th>2023-10-06</th>\n",
       "      <td>177.49</td>\n",
       "      <td>327.260</td>\n",
       "      <td>43.83</td>\n",
       "    </tr>\n",
       "    <tr>\n",
       "      <th>2023-10-09</th>\n",
       "      <td>178.99</td>\n",
       "      <td>329.820</td>\n",
       "      <td>43.71</td>\n",
       "    </tr>\n",
       "    <tr>\n",
       "      <th>2023-10-10</th>\n",
       "      <td>178.39</td>\n",
       "      <td>328.390</td>\n",
       "      <td>46.00</td>\n",
       "    </tr>\n",
       "  </tbody>\n",
       "</table>\n",
       "<p>127 rows × 3 columns</p>\n",
       "</div>"
      ],
      "text/plain": [
       "symbol        AAPL     MSFT     SQ\n",
       "date                              \n",
       "2023-04-11  160.80  282.830  66.42\n",
       "2023-04-12  160.10  283.490  62.74\n",
       "2023-04-13  165.56  289.840  64.56\n",
       "2023-04-14  165.21  286.140  64.04\n",
       "2023-04-17  165.23  288.800  64.19\n",
       "...            ...      ...    ...\n",
       "2023-10-04  173.66  318.955  41.90\n",
       "2023-10-05  174.91  319.360  42.64\n",
       "2023-10-06  177.49  327.260  43.83\n",
       "2023-10-09  178.99  329.820  43.71\n",
       "2023-10-10  178.39  328.390  46.00\n",
       "\n",
       "[127 rows x 3 columns]"
      ]
     },
     "execution_count": 9,
     "metadata": {},
     "output_type": "execute_result"
    }
   ],
   "source": [
    "price_data_frame"
   ]
  },
  {
   "cell_type": "markdown",
   "id": "cc998ceb",
   "metadata": {},
   "source": [
    "# 3.Calculating Parameters-Sharpe Ratio"
   ]
  },
  {
   "cell_type": "markdown",
   "id": "3a6a631e",
   "metadata": {},
   "source": [
    " The Sharpe Ratio, is used is a measure for calculating risk-adjusted return and has been the industry standard for such calculations. The Sharpe Ratio allows us to quantify the relationship the average return earned in excess of the risk-free rate per unit of volatility or total risk.\n",
    "\n",
    "Mathematically, we define the Sharpe Ratio as the following:\n",
    "\n",
    "\\begin{equation*}\n",
    "\\text{Sharpe Ratio} = \\frac{(R_p - R_f)}{\\sigma_p}\n",
    "\\end{equation*}\n",
    "\n",
    "Where:\n",
    "\n",
    "$\n",
    "\\begin{align}\n",
    "\\ R_p & = \\text{Return of Portfolio} \\\\\n",
    "\\ R_f & = \\text{Risk-Free Rate} \\\\\n",
    "\\ \\sigma_p & = \\text{Standard Deviation of Portfolio's Excess Return} \\\\\n",
    "\\end{align}\n",
    "$\n",
    "\n",
    "To calculate the expected returns, we use the following formula:\n",
    "\n",
    "\\begin{equation*}\n",
    "\\ R_p = (w_{1}r_{1}) + (w_{2}r_{2}) + \\cdots + (w_{n}r_{n})\n",
    "\\end{equation*}\n",
    "\n",
    "Where:\n",
    "\n",
    "$\n",
    "\\begin{align}\n",
    "\\ r_{i} & = \\text{Return of Security i} \\\\\n",
    "\\ w_{i} & = \\text{Weight of Security i} \\\\\n",
    "\\end{align}\n",
    "$\n",
    "\n",
    "To calculate the standard deviation of the protfolio, we use the following formula:\n",
    "\n",
    "\\begin{equation*}\n",
    "\\ \\sigma_p = \\sqrt{(w_{i}^2 \\sigma_i^2) + (w_{j}^2 \\sigma_j^2) + (2w_{j}w_{i} p_{i,j} \\sigma_i \\sigma_j)}\n",
    "\\end{equation*}\n",
    "\n",
    "Where:\n",
    "\n",
    "$\n",
    "\\begin{align}\n",
    "\\ \\sigma_{i} & = \\text{Standard Deviation of Returns for Security i} \\\\\n",
    "\\ w_{i} & = \\text{Weight of Security i} \\\\\n",
    "\\ p_{i,j} & = \\text{Correlation Coefficent between the returns of asset i and asset j} \\\\\n",
    "\\end{align}\n",
    "$"
   ]
  },
  {
   "cell_type": "code",
   "execution_count": 10,
   "id": "df676ac3",
   "metadata": {},
   "outputs": [],
   "source": [
    "log_return=np.log(1+price_data_frame.pct_change())"
   ]
  },
  {
   "cell_type": "code",
   "execution_count": 11,
   "id": "cd95631f",
   "metadata": {},
   "outputs": [
    {
     "data": {
      "text/html": [
       "<div>\n",
       "<style scoped>\n",
       "    .dataframe tbody tr th:only-of-type {\n",
       "        vertical-align: middle;\n",
       "    }\n",
       "\n",
       "    .dataframe tbody tr th {\n",
       "        vertical-align: top;\n",
       "    }\n",
       "\n",
       "    .dataframe thead th {\n",
       "        text-align: right;\n",
       "    }\n",
       "</style>\n",
       "<table border=\"1\" class=\"dataframe\">\n",
       "  <thead>\n",
       "    <tr style=\"text-align: right;\">\n",
       "      <th>symbol</th>\n",
       "      <th>AAPL</th>\n",
       "      <th>MSFT</th>\n",
       "      <th>SQ</th>\n",
       "    </tr>\n",
       "    <tr>\n",
       "      <th>date</th>\n",
       "      <th></th>\n",
       "      <th></th>\n",
       "      <th></th>\n",
       "    </tr>\n",
       "  </thead>\n",
       "  <tbody>\n",
       "    <tr>\n",
       "      <th>2023-04-11</th>\n",
       "      <td>NaN</td>\n",
       "      <td>NaN</td>\n",
       "      <td>NaN</td>\n",
       "    </tr>\n",
       "    <tr>\n",
       "      <th>2023-04-12</th>\n",
       "      <td>-0.004363</td>\n",
       "      <td>0.002331</td>\n",
       "      <td>-0.056999</td>\n",
       "    </tr>\n",
       "    <tr>\n",
       "      <th>2023-04-13</th>\n",
       "      <td>0.033535</td>\n",
       "      <td>0.022152</td>\n",
       "      <td>0.028596</td>\n",
       "    </tr>\n",
       "    <tr>\n",
       "      <th>2023-04-14</th>\n",
       "      <td>-0.002116</td>\n",
       "      <td>-0.012848</td>\n",
       "      <td>-0.008087</td>\n",
       "    </tr>\n",
       "    <tr>\n",
       "      <th>2023-04-17</th>\n",
       "      <td>0.000121</td>\n",
       "      <td>0.009253</td>\n",
       "      <td>0.002340</td>\n",
       "    </tr>\n",
       "    <tr>\n",
       "      <th>...</th>\n",
       "      <td>...</td>\n",
       "      <td>...</td>\n",
       "      <td>...</td>\n",
       "    </tr>\n",
       "    <tr>\n",
       "      <th>2023-10-04</th>\n",
       "      <td>0.007282</td>\n",
       "      <td>0.017602</td>\n",
       "      <td>0.000000</td>\n",
       "    </tr>\n",
       "    <tr>\n",
       "      <th>2023-10-05</th>\n",
       "      <td>0.007172</td>\n",
       "      <td>0.001269</td>\n",
       "      <td>0.017507</td>\n",
       "    </tr>\n",
       "    <tr>\n",
       "      <th>2023-10-06</th>\n",
       "      <td>0.014643</td>\n",
       "      <td>0.024436</td>\n",
       "      <td>0.027526</td>\n",
       "    </tr>\n",
       "    <tr>\n",
       "      <th>2023-10-09</th>\n",
       "      <td>0.008416</td>\n",
       "      <td>0.007792</td>\n",
       "      <td>-0.002742</td>\n",
       "    </tr>\n",
       "    <tr>\n",
       "      <th>2023-10-10</th>\n",
       "      <td>-0.003358</td>\n",
       "      <td>-0.004345</td>\n",
       "      <td>0.051064</td>\n",
       "    </tr>\n",
       "  </tbody>\n",
       "</table>\n",
       "<p>127 rows × 3 columns</p>\n",
       "</div>"
      ],
      "text/plain": [
       "symbol          AAPL      MSFT        SQ\n",
       "date                                    \n",
       "2023-04-11       NaN       NaN       NaN\n",
       "2023-04-12 -0.004363  0.002331 -0.056999\n",
       "2023-04-13  0.033535  0.022152  0.028596\n",
       "2023-04-14 -0.002116 -0.012848 -0.008087\n",
       "2023-04-17  0.000121  0.009253  0.002340\n",
       "...              ...       ...       ...\n",
       "2023-10-04  0.007282  0.017602  0.000000\n",
       "2023-10-05  0.007172  0.001269  0.017507\n",
       "2023-10-06  0.014643  0.024436  0.027526\n",
       "2023-10-09  0.008416  0.007792 -0.002742\n",
       "2023-10-10 -0.003358 -0.004345  0.051064\n",
       "\n",
       "[127 rows x 3 columns]"
      ]
     },
     "execution_count": 11,
     "metadata": {},
     "output_type": "execute_result"
    }
   ],
   "source": [
    "log_return"
   ]
  },
  {
   "cell_type": "code",
   "execution_count": 12,
   "id": "0ba21ab3",
   "metadata": {},
   "outputs": [],
   "source": [
    "random_weights=np.array(np.random.random(number_of_symbols))"
   ]
  },
  {
   "cell_type": "code",
   "execution_count": 13,
   "id": "772ffe56",
   "metadata": {},
   "outputs": [
    {
     "data": {
      "text/plain": [
       "array([0.69550387, 0.54947183, 0.27550379])"
      ]
     },
     "execution_count": 13,
     "metadata": {},
     "output_type": "execute_result"
    }
   ],
   "source": [
    "random_weights "
   ]
  },
  {
   "cell_type": "markdown",
   "id": "229796fa",
   "metadata": {},
   "source": [
    "sum is greater than one, thus we need to rebalance the weights"
   ]
  },
  {
   "cell_type": "code",
   "execution_count": 14,
   "id": "c2fbaabb",
   "metadata": {},
   "outputs": [
    {
     "data": {
      "text/plain": [
       "array([0.45742404, 0.36138062, 0.18119534])"
      ]
     },
     "execution_count": 14,
     "metadata": {},
     "output_type": "execute_result"
    }
   ],
   "source": [
    "rebalance_weights=random_weights/np.sum(random_weights)\n",
    "rebalance_weights"
   ]
  },
  {
   "cell_type": "markdown",
   "id": "e4457464",
   "metadata": {},
   "source": [
    "#### Expected returns"
   ]
  },
  {
   "cell_type": "code",
   "execution_count": 15,
   "id": "e8d1467e",
   "metadata": {},
   "outputs": [],
   "source": [
    "exp_ret=np.sum((log_return.mean()*rebalance_weights)*252) #252 for a financial year"
   ]
  },
  {
   "cell_type": "code",
   "execution_count": 16,
   "id": "6313bef7",
   "metadata": {},
   "outputs": [
    {
     "data": {
      "text/plain": [
       "0.06979310110788575"
      ]
     },
     "execution_count": 16,
     "metadata": {},
     "output_type": "execute_result"
    }
   ],
   "source": [
    "exp_ret"
   ]
  },
  {
   "cell_type": "markdown",
   "id": "03bf0464",
   "metadata": {},
   "source": [
    "#### Expected Volitility"
   ]
  },
  {
   "cell_type": "code",
   "execution_count": 17,
   "id": "1a40f12c",
   "metadata": {},
   "outputs": [],
   "source": [
    "exp_vol=np.sqrt(\n",
    "    np.dot(\n",
    "        rebalance_weights.T,\n",
    "        np.dot(\n",
    "            log_return.cov()*252,\n",
    "            rebalance_weights\n",
    "        )\n",
    "    )\n",
    ")"
   ]
  },
  {
   "cell_type": "code",
   "execution_count": 18,
   "id": "6cecd8e7",
   "metadata": {},
   "outputs": [
    {
     "data": {
      "text/plain": [
       "0.19674560463308505"
      ]
     },
     "execution_count": 18,
     "metadata": {},
     "output_type": "execute_result"
    }
   ],
   "source": [
    "exp_vol"
   ]
  },
  {
   "cell_type": "markdown",
   "id": "5589ed6c",
   "metadata": {},
   "source": [
    "###  Sharpe Ratio"
   ]
  },
  {
   "cell_type": "code",
   "execution_count": 19,
   "id": "cf7a9181",
   "metadata": {},
   "outputs": [],
   "source": [
    "sharpe_ratio=(exp_ret-.1)/exp_vol"
   ]
  },
  {
   "cell_type": "code",
   "execution_count": 20,
   "id": "0dd5ce2c",
   "metadata": {},
   "outputs": [
    {
     "data": {
      "text/plain": [
       "-0.15353277623887823"
      ]
     },
     "execution_count": 20,
     "metadata": {},
     "output_type": "execute_result"
    }
   ],
   "source": [
    "sharpe_ratio"
   ]
  },
  {
   "cell_type": "markdown",
   "id": "9b6ab40e",
   "metadata": {},
   "source": [
    "### Concise Representation "
   ]
  },
  {
   "cell_type": "code",
   "execution_count": 21,
   "id": "cfa4d314",
   "metadata": {},
   "outputs": [
    {
     "name": "stdout",
     "output_type": "stream",
     "text": [
      "\n",
      "================================================================================\n",
      "PORTFOLIO WEIGHTS:\n",
      "--------------------------------------------------------------------------------\n",
      "   random_weights  rebalance_weights\n",
      "0        0.126221           0.229598\n",
      "1        0.411125           0.747840\n",
      "2        0.012404           0.022562\n",
      "--------------------------------------------------------------------------------\n",
      "\n",
      "================================================================================\n",
      "PORTFOLIO METRICS:\n",
      "--------------------------------------------------------------------------------\n",
      "   Expected Portfolio Returns  Expected Portfolio Volatility  \\\n",
      "0                    0.254481                       0.211337   \n",
      "\n",
      "   Portfolio Sharpe Ratio  \n",
      "0                 1.20415  \n",
      "--------------------------------------------------------------------------------\n"
     ]
    }
   ],
   "source": [
    "# Calculate the Log of returns.\n",
    "log_return = np.log(1 + price_data_frame.pct_change())\n",
    "\n",
    "# Generate Random Weights.\n",
    "random_weights = np.array(np.random.random(number_of_symbols))\n",
    "\n",
    "# Generate the Rebalance Weights, these should equal 1.\n",
    "rebalance_weights = random_weights / np.sum(random_weights)\n",
    "\n",
    "# Calculate the Expected Returns, annualize it by multiplying it by `252`.\n",
    "exp_ret = np.sum((log_return.mean() * rebalance_weights) * 252)\n",
    "\n",
    "# Calculate the Expected Volatility, annualize it by multiplying it by `252`.\n",
    "exp_vol = np.sqrt(\n",
    "np.dot(\n",
    "    rebalance_weights.T,\n",
    "    np.dot(\n",
    "        log_return.cov() * 252,\n",
    "        rebalance_weights\n",
    "    )\n",
    ")\n",
    ")\n",
    "\n",
    "# Calculate the Sharpe Ratio.\n",
    "sharpe_ratio = exp_ret / exp_vol\n",
    "\n",
    "# Put the weights into a data frame to see them better.\n",
    "weights_df = pd.DataFrame(data={\n",
    "'random_weights': random_weights,\n",
    "'rebalance_weights': rebalance_weights\n",
    "})\n",
    "print('')\n",
    "print('='*80)\n",
    "print('PORTFOLIO WEIGHTS:')\n",
    "print('-'*80)\n",
    "print(weights_df)\n",
    "print('-'*80)\n",
    "\n",
    "# Do the same with the other metrics.\n",
    "metrics_df = pd.DataFrame(data={\n",
    "    'Expected Portfolio Returns': exp_ret,\n",
    "    'Expected Portfolio Volatility': exp_vol,\n",
    "    'Portfolio Sharpe Ratio': sharpe_ratio\n",
    "}, index=[0])\n",
    "\n",
    "print('')\n",
    "print('='*80)\n",
    "print('PORTFOLIO METRICS:')\n",
    "print('-'*80)\n",
    "print(metrics_df)\n",
    "print('-'*80)"
   ]
  },
  {
   "cell_type": "markdown",
   "id": "3a9543a6",
   "metadata": {},
   "source": [
    "# 4.Running a Monte Carlo Simulation"
   ]
  },
  {
   "cell_type": "code",
   "execution_count": 22,
   "id": "a828698d",
   "metadata": {},
   "outputs": [
    {
     "name": "stdout",
     "output_type": "stream",
     "text": [
      "\n",
      "================================================================================\n",
      "SIMULATIONS RESULT:\n",
      "--------------------------------------------------------------------------------\n",
      "    Returns  Volatility  Sharpe Ratio  \\\n",
      "0 -0.033383    0.214302     -0.202437   \n",
      "1  0.099207    0.193587      0.460812   \n",
      "2 -0.126810    0.237935     -0.574988   \n",
      "3 -0.163688    0.246278     -0.705252   \n",
      "4 -0.071887    0.237975     -0.344098   \n",
      "\n",
      "                                   Portfolio Weights  \n",
      "0  [0.6493181704022856, 0.08656228994004074, 0.26...  \n",
      "1  [0.4732905418476834, 0.3753752206366651, 0.151...  \n",
      "2  [0.24632456366750394, 0.3636290290068574, 0.39...  \n",
      "3  [0.26439003718534737, 0.3114704748988512, 0.42...  \n",
      "4  [0.06137999028587824, 0.5854185840345842, 0.35...  \n",
      "--------------------------------------------------------------------------------\n"
     ]
    }
   ],
   "source": [
    "num_of_portfolios=5000\n",
    "all_weights=np.zeros((num_of_portfolios,number_of_symbols))\n",
    "ret_arr=np.zeros(num_of_portfolios)\n",
    "vol_arr=np.zeros(num_of_portfolios)\n",
    "sharpe_arr=np.zeros(num_of_portfolios)\n",
    "\n",
    "for i in range(num_of_portfolios):\n",
    "    weights=np.random.random(number_of_symbols)\n",
    "    weights=weights/np.sum(weights)\n",
    "    all_weights[i,:]=weights\n",
    "    ret_arr[i]=np.sum((log_return.mean()*weights)*252) # <=expected returns\n",
    "    vol_arr[i]=np.sqrt(\n",
    "        np.dot(weights.T,np.dot(log_return.cov()*252,weights))\n",
    "    )\n",
    "    sharpe_arr[i]=(ret_arr[i]-0.01)/vol_arr[i]\n",
    "\n",
    "simulations_data=[ret_arr,vol_arr,sharpe_arr,all_weights]\n",
    "simulations_df = pd.DataFrame(data=simulations_data).T\n",
    "\n",
    "# Give the columns the Proper Names.\n",
    "simulations_df.columns = [\n",
    "    'Returns',\n",
    "    'Volatility',\n",
    "    'Sharpe Ratio',\n",
    "    'Portfolio Weights'\n",
    "]\n",
    "\n",
    "# Make sure the data types are correct, we don't want our floats to be strings.\n",
    "simulations_df = simulations_df.infer_objects()\n",
    "\n",
    "# Print out the results.\n",
    "print('')\n",
    "print('='*80)\n",
    "print('SIMULATIONS RESULT:')\n",
    "print('-'*80)\n",
    "print(simulations_df.head())\n",
    "print('-'*80)\n",
    "    "
   ]
  },
  {
   "cell_type": "code",
   "execution_count": 23,
   "id": "48afd3a6",
   "metadata": {},
   "outputs": [
    {
     "name": "stdout",
     "output_type": "stream",
     "text": [
      "\n",
      "================================================================================\n",
      "MAX SHARPE RATIO:\n",
      "--------------------------------------------------------------------------------\n",
      "Returns                                                       0.266963\n",
      "Volatility                                                      0.2028\n",
      "Sharpe Ratio                                                  1.267076\n",
      "Portfolio Weights    [0.34521579363437394, 0.6544908237372556, 0.00...\n",
      "Name: 4470, dtype: object\n",
      "--------------------------------------------------------------------------------\n",
      "\n",
      "================================================================================\n",
      "MIN VOLATILITY:\n",
      "--------------------------------------------------------------------------------\n",
      "Returns                                                       0.195884\n",
      "Volatility                                                    0.187145\n",
      "Sharpe Ratio                                                  0.993266\n",
      "Portfolio Weights    [0.646127590651215, 0.31132310563327836, 0.042...\n",
      "Name: 2520, dtype: object\n",
      "--------------------------------------------------------------------------------\n"
     ]
    }
   ],
   "source": [
    "# Return the Max Sharpe Ratio from the run.\n",
    "max_sharpe_ratio = simulations_df.loc[simulations_df['Sharpe Ratio'].idxmax()]\n",
    "\n",
    "# Return the Min Volatility from the run.\n",
    "min_volatility = simulations_df.loc[simulations_df['Volatility'].idxmin()]\n",
    "\n",
    "print('')\n",
    "print('='*80)\n",
    "print('MAX SHARPE RATIO:')\n",
    "print('-'*80)\n",
    "print(max_sharpe_ratio)\n",
    "print('-'*80)\n",
    "\n",
    "print('')\n",
    "print('='*80)\n",
    "print('MIN VOLATILITY:')\n",
    "print('-'*80)\n",
    "print(min_volatility)\n",
    "print('-'*80)"
   ]
  },
  {
   "cell_type": "markdown",
   "id": "2295c3d8",
   "metadata": {},
   "source": [
    "# 5. Plotting"
   ]
  },
  {
   "cell_type": "code",
   "execution_count": 24,
   "id": "9647ba45",
   "metadata": {},
   "outputs": [
    {
     "data": {
      "image/png": "[encoded data removed]",
      "text/plain": [
       "<Figure size 640x480 with 2 Axes>"
      ]
     },
     "metadata": {},
     "output_type": "display_data"
    }
   ],
   "source": [
    "# This is so I can see the plot inside of my Jupyter Notebook.\n",
    "%matplotlib inline\n",
    "\n",
    "# Plot the data on a Scatter plot.\n",
    "plt.scatter(\n",
    "    y=simulations_df['Returns'],\n",
    "    x=simulations_df['Volatility'],\n",
    "    c=simulations_df['Sharpe Ratio'],\n",
    "    cmap='RdYlBu'\n",
    ")\n",
    "\n",
    "# Give the Plot some labels, and titles.\n",
    "plt.title('Portfolio Returns Vs. Risk')\n",
    "plt.colorbar(label='Sharpe Ratio')\n",
    "plt.xlabel('Standard Deviation')\n",
    "plt.ylabel('Returns')\n",
    "\n",
    "# Plot the Max Sharpe Ratio, using a `Red Star`.\n",
    "plt.scatter(\n",
    "    max_sharpe_ratio[1],\n",
    "    max_sharpe_ratio[0],\n",
    "    marker=(5, 1, 0),\n",
    "    color='r',\n",
    "    s=600\n",
    ")\n",
    "\n",
    "# Plot the Min Volatility, using a `Blue Star`.\n",
    "plt.scatter(\n",
    "    min_volatility[1],\n",
    "    min_volatility[0],\n",
    "    marker=(5, 1, 0),\n",
    "    color='b',\n",
    "    s=600\n",
    ")\n",
    "\n",
    "# Finally, show the plot.\n",
    "plt.show()"
   ]
  },
  {
   "cell_type": "markdown",
   "id": "36325db4",
   "metadata": {},
   "source": [
    "# 6.Optimization with SciPy"
   ]
  },
  {
   "cell_type": "code",
   "execution_count": 25,
   "id": "a40e1359",
   "metadata": {},
   "outputs": [],
   "source": [
    "def get_metrics(weights: list) -> np.array:\n",
    "\n",
    "    # Convert to a Numpy Array.\n",
    "    weights = np.array(weights)\n",
    "\n",
    "    # Calculate the returns, remember to annualize them (252).\n",
    "    ret = np.sum(log_return.mean() * weights) * 252\n",
    "\n",
    "    # Calculate the volatility, remember to annualize them (252).\n",
    "    vol = np.sqrt(\n",
    "        np.dot(weights.T, np.dot(log_return.cov() * 252, weights))\n",
    "    )\n",
    "\n",
    "    # Calculate the Sharpe Ratio.\n",
    "    sr = ret / vol\n",
    "\n",
    "    return np.array([ret, vol, sr])\n",
    "\n",
    "def grab_negative_sharpe(weights: list) -> np.array:\n",
    "    \n",
    "    return get_metrics(weights)[2] - 1\n",
    "\n",
    "def grab_volatility(weights: list) -> np.array:\n",
    "\n",
    "    return get_metrics(weights)[1]\n",
    "\n",
    "def check_sum(weights: list) -> float:\n",
    "    \n",
    "    return np.sum(weights) - 1"
   ]
  },
  {
   "cell_type": "code",
   "execution_count": 26,
   "id": "8155755d",
   "metadata": {},
   "outputs": [
    {
     "name": "stdout",
     "output_type": "stream",
     "text": [
      "\n",
      "================================================================================\n",
      "OPTIMIZED SHARPE RATIO:\n",
      "--------------------------------------------------------------------------------\n",
      " message: Optimization terminated successfully\n",
      " success: True\n",
      "  status: 0\n",
      "     fun: -2.656025904736669\n",
      "       x: [ 3.331e-16  5.551e-17  1.000e+00]\n",
      "     nit: 2\n",
      "     jac: [ 7.396e-01  8.466e-01 -2.980e-08]\n",
      "    nfev: 8\n",
      "    njev: 2\n",
      "--------------------------------------------------------------------------------\n"
     ]
    }
   ],
   "source": [
    "# Define the boundaries for each symbol. Remember I can only invest up to 100% of my capital into a single asset.\n",
    "bounds = tuple((0, 1) for symbol in range(number_of_symbols))\n",
    "\n",
    "# Define the constraints, here I'm saying that the sum of each weight must not exceed 100%.\n",
    "constraints = ({'type': 'eq', 'fun': check_sum})\n",
    "\n",
    "# We need to create an initial guess to start with,\n",
    "# and usually the best initial guess is just an\n",
    "# even distribution. In this case 25% for each of the 4 stocks.\n",
    "init_guess = number_of_symbols * [1 / number_of_symbols]\n",
    "\n",
    "# Perform the operation to minimize the risk.\n",
    "optimized_sharpe = sci_opt.minimize(\n",
    "    grab_negative_sharpe, # minimize this.\n",
    "    init_guess, # Start with these values.\n",
    "    method='SLSQP',\n",
    "    bounds=bounds, # don't exceed these bounds.\n",
    "    constraints=constraints # make sure you don't exceed the 100% constraint.\n",
    ")\n",
    "\n",
    "# Print the results.\n",
    "print('')\n",
    "print('='*80)\n",
    "print('OPTIMIZED SHARPE RATIO:')\n",
    "print('-'*80)\n",
    "print(optimized_sharpe)\n",
    "print('-'*80)"
   ]
  },
  {
   "cell_type": "code",
   "execution_count": 27,
   "id": "b4af145b",
   "metadata": {},
   "outputs": [
    {
     "name": "stdout",
     "output_type": "stream",
     "text": [
      "\n",
      "================================================================================\n",
      "OPTIMIZED WEIGHTS:\n",
      "--------------------------------------------------------------------------------\n",
      "[3.33066907e-16 5.55111512e-17 1.00000000e+00]\n",
      "--------------------------------------------------------------------------------\n",
      "\n",
      "================================================================================\n",
      "OPTIMIZED METRICS:\n",
      "--------------------------------------------------------------------------------\n",
      "[-0.73471364  0.44366072 -1.6560259 ]\n",
      "--------------------------------------------------------------------------------\n"
     ]
    }
   ],
   "source": [
    "# Grab the metrics.\n",
    "optimized_metrics = get_metrics(weights=optimized_sharpe.x)\n",
    "\n",
    "# Print the Optimized Weights.\n",
    "print('')\n",
    "print('='*80)\n",
    "print('OPTIMIZED WEIGHTS:')\n",
    "print('-'*80)\n",
    "print(optimized_sharpe.x)\n",
    "print('-'*80)\n",
    "\n",
    "\n",
    "# Print the Optimized Metrics.\n",
    "print('')\n",
    "print('='*80)\n",
    "print('OPTIMIZED METRICS:')\n",
    "print('-'*80)\n",
    "print(optimized_metrics)\n",
    "print('-'*80)"
   ]
  },
  {
   "cell_type": "code",
   "execution_count": null,
   "id": "a1314a28",
   "metadata": {},
   "outputs": [],
   "source": []
  }
 ],
 "metadata": {
  "kernelspec": {
   "display_name": "Python 3 (ipykernel)",
   "language": "python",
   "name": "python3"
  },
  "language_info": {
   "codemirror_mode": {
    "name": "ipython",
    "version": 3
   },
   "file_extension": ".py",
   "mimetype": "text/x-python",
   "name": "python",
   "nbconvert_exporter": "python",
   "pygments_lexer": "ipython3",
   "version": "3.10.13"
  }
 },
 "nbformat": 4,
 "nbformat_minor": 5
}
